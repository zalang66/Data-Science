{
 "cells": [
  {
   "metadata": {},
   "cell_type": "markdown",
   "source": "# Data Science Tools and Ecosystem",
   "id": "b6b0116f05730d46"
  },
  {
   "metadata": {},
   "cell_type": "markdown",
   "source": "In this notebook, Data Science Tools and Ecosystems are summarized.",
   "id": "608f62c72c4a3acd"
  },
  {
   "metadata": {},
   "cell_type": "markdown",
   "source": [
    "**Objectives:**\n",
    "\n",
    "* List popular languages for data science\n",
    "* List data sources\n",
    "* List data science software\n",
    "* Explain Big Data\n",
    "* List data science task categories"
   ],
   "id": "3b298f96bb17386d"
  },
  {
   "metadata": {},
   "cell_type": "markdown",
   "source": [
    "Some of the popular languages that Data Scientists use are:\n",
    "1. Python\n",
    "2. R\n",
    "3. SQL\n",
    "4. Scala\n",
    "5. Java\n",
    "6. C++\n",
    "7. Julia\n",
    "8. Javascript\n",
    "9. php\n",
    "10. Go\n",
    "11. Ruby\n",
    "12. Visual Basic"
   ],
   "id": "a7403262e594fe47"
  },
  {
   "metadata": {},
   "cell_type": "markdown",
   "source": [
    "Some of the commonly used libraries used by Data Scientists include:\n",
    "1. Pandas\n",
    "2. Numpy\n",
    "3. Matplotlib\n",
    "4. Seaborn\n",
    "5. Scikit\n",
    "6. Keras\n",
    "7. TensorFlow\n",
    "8. PyTorch\n",
    "9. Apache Spark"
   ],
   "id": "376e5dd1d267b347"
  },
  {
   "metadata": {},
   "cell_type": "markdown",
   "source": [
    "| Data Science Tools |\n",
    "|--------------------|\n",
    "| Anaconda           |\n",
    "| Spyder             |\n",
    "| Jupyter Notebooks  |"
   ],
   "id": "c9a1a5845aa7bd01"
  },
  {
   "metadata": {},
   "cell_type": "markdown",
   "source": "",
   "id": "2089db9014b782c9"
  },
  {
   "metadata": {},
   "cell_type": "markdown",
   "source": "### Below are a few examples of evaluating arithmetic expressions in Python",
   "id": "e09c5ad881287d68"
  },
  {
   "metadata": {
    "ExecuteTime": {
     "end_time": "2024-10-02T20:53:59.129898Z",
     "start_time": "2024-10-02T20:53:59.118737Z"
    }
   },
   "cell_type": "code",
   "source": [
    "# This is a simple arithmetic expression to multiply then add numbers\n",
    "(3*4)+5"
   ],
   "id": "c07528042f5f9073",
   "outputs": [
    {
     "data": {
      "text/plain": [
       "17"
      ]
     },
     "execution_count": 5,
     "metadata": {},
     "output_type": "execute_result"
    }
   ],
   "execution_count": 5
  },
  {
   "metadata": {
    "ExecuteTime": {
     "end_time": "2024-10-02T20:56:58.847133Z",
     "start_time": "2024-10-02T20:56:58.841495Z"
    }
   },
   "cell_type": "code",
   "source": [
    "#This will convert 200 minutes to hours by dividing by 60\n",
    "200/60"
   ],
   "id": "16e598d167d90c77",
   "outputs": [
    {
     "data": {
      "text/plain": [
       "3.3333333333333335"
      ]
     },
     "execution_count": 6,
     "metadata": {},
     "output_type": "execute_result"
    }
   ],
   "execution_count": 6
  },
  {
   "metadata": {},
   "cell_type": "markdown",
   "source": [
    "## Author\n",
    "Zane Lang"
   ],
   "id": "840e387fbaff4558"
  },
  {
   "metadata": {},
   "cell_type": "code",
   "outputs": [],
   "execution_count": null,
   "source": "",
   "id": "97bf2e5288fca602"
  }
 ],
 "metadata": {
  "kernelspec": {
   "display_name": "Python 3",
   "language": "python",
   "name": "python3"
  },
  "language_info": {
   "codemirror_mode": {
    "name": "ipython",
    "version": 2
   },
   "file_extension": ".py",
   "mimetype": "text/x-python",
   "name": "python",
   "nbconvert_exporter": "python",
   "pygments_lexer": "ipython2",
   "version": "2.7.6"
  }
 },
 "nbformat": 4,
 "nbformat_minor": 5
}
